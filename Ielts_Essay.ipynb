{
 "cells": [
  {
   "cell_type": "markdown",
   "id": "b336d77a",
   "metadata": {},
   "source": [
    "## Ielts Essay recomender and evalutor\n",
    "This notebook is designed to perform two functionality.\n",
    "1. First you can provide a topic to the notebook and it will provide you a recomentaions about the topic and all give you relevet examples about that topic.\n",
    "2. this will check the essay for you and give you number based on you performance. \n",
    "3. I will also add the functionality so that it will provide me the list of repetative words that I am using. to rectify that it will provide me a list of sysnonums for that word as well."
   ]
  },
  {
   "cell_type": "markdown",
   "id": "4db16b78",
   "metadata": {},
   "source": [
    "## Recomendation for essay task.\n",
    "this taks need to break down in few steps.\n",
    "1. Is the task is an essay task.\n",
    "2. what is the catogary of essay task.\n",
    "3. give recomendations/points about the essay.\n",
    "4. give atleast two examples for the eassay."
   ]
  },
  {
   "cell_type": "code",
   "execution_count": 1,
   "id": "3a1a3cfb",
   "metadata": {},
   "outputs": [],
   "source": [
    "import openai\n",
    "import os\n",
    "\n",
    "openai.api_key = os.getenv (\"OPEN_AI_KEY\")"
   ]
  },
  {
   "cell_type": "code",
   "execution_count": 2,
   "id": "ca5f22f1",
   "metadata": {},
   "outputs": [],
   "source": [
    "delamater = \"$$$$\"\n",
    "def get_completion (prompt ,temperature = 0):\n",
    "    model = 'gpt-3.5-turbo'\n",
    "    message = [{'role':'user','content':prompt}]\n",
    "    response = openai.ChatCompletion.create(\n",
    "        model= model,\n",
    "        messages = message,\n",
    "        temperature = temperature,\n",
    "        max_tokens = 1000,\n",
    "    )\n",
    "    \n",
    "    return response.choices[0].message[\"content\"]\n"
   ]
  },
  {
   "cell_type": "code",
   "execution_count": 3,
   "id": "ef89f885",
   "metadata": {},
   "outputs": [],
   "source": [
    "sample_essay_topic = \"\"\"It is the responsibility of schools to teach children good behaviour in addition to \\\n",
    "provide formal education.\n",
    "To what extent do you agree or disagree?\"\"\"\n",
    "\n"
   ]
  },
  {
   "cell_type": "code",
   "execution_count": 30,
   "id": "d79efd90",
   "metadata": {},
   "outputs": [],
   "source": [
    "### test working\n",
    "\n",
    "# prompt = \"\"\"Do you know the critera about ielts essay checking\"\"\"\n",
    "# response = get_response (prompt)\n",
    "# print(response)"
   ]
  },
  {
   "cell_type": "code",
   "execution_count": 4,
   "id": "9555f972",
   "metadata": {},
   "outputs": [],
   "source": [
    "prompt = f\"\"\"\n",
    "you are an english tutor.\n",
    "the essay topis is delamater by {delamater}\n",
    "the essay is asked in Ielts test.\n",
    "You should not write the essay.\n",
    "Just follow the steps to help the user\n",
    "\n",
    "you have to perform following steps:\n",
    "\n",
    "step1: check in what is type of essay user asked.\n",
    "eg \"advantages and disadvantages\", \"opinion\", \"argumentative\"\n",
    "Print the predicted catagory in \"catagory\" eg \"Argumentative\"\n",
    "\n",
    "step2: provide the key points/argumants\n",
    "provide at least six argumantive points.\n",
    "In case of multi catagory essay like \"pros and cons\" provide atleast three points each.\n",
    "the arguments points whould me words not the sentense.\n",
    "seperate the arguments points base on the catagory and in new line.\n",
    "\n",
    "step3: provide example\n",
    "provide altest three examples for that essay.\n",
    "the examples should support the argumants.\n",
    "Example should me based on facts.\n",
    "In case of multi catagory essay \\\n",
    "provide examples for each catagory\n",
    "If possible provide name of researching body eg. \"IEEE\",\"WHO\", \"Stanford\"\n",
    "\n",
    "\n",
    "\n",
    "Ielts Essay topic : {delamater}{sample_essay_topic}{delamater}\n",
    "\n",
    "\"\"\"\n"
   ]
  },
  {
   "cell_type": "code",
   "execution_count": 32,
   "id": "a87f0858",
   "metadata": {},
   "outputs": [
    {
     "name": "stdout",
     "output_type": "stream",
     "text": [
      "Essay topic  It is the responsibility of schools to teach children good behaviour in addition to provide formal education.\n",
      "To what extent do you agree or disagree? \n",
      "\n",
      "\n",
      "Category: Opinion\n",
      "\n",
      "Key points/arguments:\n",
      "1. Schools should focus on teaching children good behavior as it plays a crucial role in their overall development.\n",
      "2. Good behavior is essential for creating a positive learning environment in schools.\n",
      "3. Teaching good behavior helps in shaping children's character and prepares them for future social interactions.\n",
      "4. Schools have a responsibility to instill values such as respect, empathy, and responsibility in children.\n",
      "5. Teaching good behavior can contribute to reducing instances of bullying and other negative behaviors among students.\n",
      "6. Schools should work in collaboration with parents to reinforce good behavior both at school and at home.\n",
      "\n",
      "Examples:\n",
      "1. Research conducted by Stanford University has shown that schools that prioritize teaching good behavior have lower rates of disciplinary issues and higher academic achievement.\n",
      "2. The World Health Organization (WHO) has emphasized the importance of schools in promoting positive behavior and mental well-being among children.\n",
      "3. A study conducted by the National Institute of Education in Singapore found that schools that actively teach good behavior have a more positive and inclusive school culture.\n"
     ]
    }
   ],
   "source": [
    "response = get_completion (prompt, temperature=.5)\n",
    "print(\"Essay topic :\",sample_essay_topic, \"\\n\\n\")\n",
    "print (response)"
   ]
  },
  {
   "cell_type": "markdown",
   "id": "e33dbede",
   "metadata": {},
   "source": [
    "sample_essay_topic = \"Task 2: Some children spend hours every day on their smartphones. Why is this the case? Do you think this is a positive or a negative development? Give reasons for your answer and include any relevant examples from your own knowledge or experience. Write at least 250 words.\"\n",
    "\n",
    "response = get_completion (prompt, temperature=.5)\n",
    "print(\"Essay topic \", sample_essay_topic, \"\\n\\n\")\n",
    "print (response)"
   ]
  },
  {
   "cell_type": "markdown",
   "id": "36fc45c2",
   "metadata": {},
   "source": [
    "sample_essay_topic = \"Task 2: Some people believe that professionals, such as doctors and engineers, should be required to work in the country where they did their training. Others believe they should be free to work in another country if they wish. Discuss both these views and give your own opinion. Give reasons for your answer and include any relevant examples from your own knowledge or experience. Write at least 250 words.\"\n",
    "\n",
    "response = get_completion (prompt, temperature=.5)\n",
    "print(\"Essay topic \", sample_essay_topic, \"\\n\\n\")\n",
    "print (response)"
   ]
  },
  {
   "cell_type": "markdown",
   "id": "c4f88e3a",
   "metadata": {},
   "source": [
    "sample_essay_topic = \"Some people believe that professionals, such as doctors and engineers, should be required to work in the country where they did their training. Others believe they should be free to work in another country if they wish. Discuss both these views and give your own opinion. Give reasons for your answer and include any relevant examples from your own knowledge or experience. Write at least 250 words\"\n",
    "\n",
    "response = get_completion (prompt, temperature=.5)\n",
    "print(\"Essay topic \", sample_essay_topic, \"\\n\\n\")\n",
    "print (response)"
   ]
  },
  {
   "cell_type": "markdown",
   "id": "33faf64d",
   "metadata": {},
   "source": [
    "sample_essay_topic = \"Some people believe that professionals, such as doctors and engineers, should be required to work in the country where they did their training. Others believe they should be free to work in another country if they wish. Discuss both these views and give your own opinion. Give reasons for your answer and include any relevant examples from your own knowledge or experience. Write at least 250 words\"\n",
    "\n",
    "response = get_completion (prompt, temperature=.5)\n",
    "print(\"Essay topic \", sample_essay_topic, \"\\n\\n\")\n",
    "print (response)"
   ]
  },
  {
   "cell_type": "markdown",
   "id": "faf85995",
   "metadata": {},
   "source": [
    "## Essay check task\n",
    "1. This will cehck essay for any grammer issue.\n",
    "2. check the coherence in the essay.\n",
    "3. check is the essay covers what is asked in topic.\n",
    "4. Use a wide range of vocabulary.\n"
   ]
  },
  {
   "cell_type": "code",
   "execution_count": 37,
   "id": "cead712f",
   "metadata": {},
   "outputs": [],
   "source": [
    "sample_essay = \"\"\"It is argued that schools should teach students to be good people apart from providing formal education. I completely agree with this statement because children spend long hours at schools, and parents have to pay for tuition fees.\n",
    "Schools should be responsible for teaching children to have good manners because children spend a significant amount of time at schools. This is because when children spend a lot of time with teachers who usually act as role models for them, students can learn and imitate good manners. For example, students from one of the most famous schools in Thailand reported that they behave themselves well because their teachers instilled good values in them while studying at schools.\n",
    "Another reason is that parents have to pay for tuition fees, so they expect their children to become good people. This is due to the fact that parents expect their children to be successful both professionally and personally. For instance, international schools in Thailand charge parents a lot of money, so their parents expect their children to be excellent not only at academic subjects, but also good manners.\n",
    "In conclusion, schools have to be responsible for teaching about good manners because children spend a lot of time at schools, and parents have to pay for education costs.\"\"\"\n"
   ]
  },
  {
   "cell_type": "code",
   "execution_count": null,
   "id": "9685e041",
   "metadata": {},
   "outputs": [],
   "source": [
    "prompt = f\"\"\"\n",
    "you are an examiner. \n",
    "Who check ielts essay.\n",
    "your job is to mark the ielts essay.\n",
    "dont write the essay from this question.\n",
    "\n",
    "the question and respective answer is delamated by {delamater}\n",
    "\n",
    "The essay question is {delamater}{sample_essay_topic}{delamater}\n",
    "\n",
    "You have to evaluate the answer based on below instruction.\n",
    "As this is part of Ielts exam. So evaluate it based on Ielts making criteria means zero to nine band.\n",
    "You should provide \n",
    "\n",
    "\"\"\""
   ]
  },
  {
   "cell_type": "markdown",
   "id": "7540c6db",
   "metadata": {},
   "source": [
    "## Improvements in you essay\n",
    "1. Provide sysnonums for most repeated words\n",
    "2. Insure adverb and other improvement in essay."
   ]
  },
  {
   "cell_type": "code",
   "execution_count": null,
   "id": "48806515",
   "metadata": {},
   "outputs": [],
   "source": []
  },
  {
   "cell_type": "code",
   "execution_count": null,
   "id": "fcd01c28",
   "metadata": {},
   "outputs": [],
   "source": []
  }
 ],
 "metadata": {
  "kernelspec": {
   "display_name": "Python 3 (ipykernel)",
   "language": "python",
   "name": "python3"
  },
  "language_info": {
   "codemirror_mode": {
    "name": "ipython",
    "version": 3
   },
   "file_extension": ".py",
   "mimetype": "text/x-python",
   "name": "python",
   "nbconvert_exporter": "python",
   "pygments_lexer": "ipython3",
   "version": "3.8.10"
  }
 },
 "nbformat": 4,
 "nbformat_minor": 5
}
